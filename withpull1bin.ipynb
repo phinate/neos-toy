{
 "cells": [
  {
   "cell_type": "code",
   "execution_count": 1,
   "metadata": {},
   "outputs": [
    {
     "name": "stdout",
     "output_type": "stream",
     "text": [
      "ERROR! Session/line number was not unique in database. History logging moved to new session 32\n"
     ]
    }
   ],
   "source": [
    "import pyhf\n",
    "\n",
    "import cabinetry.fit as fit\n",
    "import cabinetry.visualize as viz\n",
    "\n",
    "import numpy as np\n",
    "import jax\n",
    "\n",
    "import matplotlib.pyplot as plt"
   ]
  },
  {
   "cell_type": "code",
   "execution_count": null,
   "metadata": {},
   "outputs": [],
   "source": [
    "%pip install cabinetry"
   ]
  },
  {
   "cell_type": "code",
   "execution_count": 2,
   "metadata": {},
   "outputs": [],
   "source": [
    "def make_model(s, b, bup, bdn):\n",
    "    m = {\n",
    "        \"channels\": [\n",
    "            {\n",
    "                \"name\": \"singlechannel\",\n",
    "                \"samples\": [\n",
    "                    {\n",
    "                        \"name\": \"signal\",\n",
    "                        \"data\": [s],\n",
    "                        \"modifiers\": [\n",
    "                            {\"name\": \"mu\", \"type\": \"normfactor\", \"data\": None}\n",
    "                        ],\n",
    "                    },\n",
    "                    {\n",
    "                        \"name\": \"background\",\n",
    "                        \"data\": [b],\n",
    "                        \"modifiers\": [\n",
    "                            {\n",
    "                                \"name\": \"bkguncrt\",\n",
    "                                \"type\": \"histosys\",\n",
    "                                \"data\": {\"hi_data\": [bup], \"lo_data\": [bdn]},\n",
    "                            }\n",
    "                        ],\n",
    "                    },\n",
    "                ],\n",
    "            }\n",
    "        ]\n",
    "    }\n",
    "    return pyhf.Model(m)"
   ]
  },
  {
   "cell_type": "code",
   "execution_count": 3,
   "metadata": {},
   "outputs": [],
   "source": [
    "class GaussianModel:\n",
    "    def __init__(self, cov):\n",
    "        self.cov = cov\n",
    "\n",
    "    def logpdf(self, p, d):\n",
    "        return jax.scipy.stats.multivariate_normal.logpdf(d, p, self.cov).reshape(1)\n",
    "\n",
    "    def sample(self, key, at, shape):\n",
    "        return jax.random.multivariate_normal(key, at, self.cov, shape=shape)\n",
    "\n",
    "\n",
    "class BestFit:\n",
    "    def __init__(self, bestfit):\n",
    "        self.bestfit = bestfit"
   ]
  },
  {
   "cell_type": "code",
   "execution_count": 4,
   "metadata": {},
   "outputs": [],
   "source": [
    "def evaluate_model(m, d, reference):\n",
    "    grid = xi, yi = np.mgrid[0:4:51j, -2:2:51j]\n",
    "    X = np.swapaxes(grid, 0, -1).reshape(-1, 2)\n",
    "    r = jax.vmap(m.logpdf, in_axes=(0, None))(X, d)\n",
    "    zi = -2 * (r[:, 0].reshape(51, 51).T - m.logpdf(reference, d))\n",
    "    return xi, yi, zi\n",
    "\n",
    "\n",
    "def gaussian_approx(m, at):\n",
    "    mcov = jax.numpy.linalg.inv(jax.hessian(lambda p: -m.logpdf(p, d))(at))[0]\n",
    "    ggm = GaussianModel(mcov)\n",
    "    return ggm\n",
    "\n",
    "\n",
    "def plot_model(axarr, m, d, fr=None, lines=[1, 2, 4]):\n",
    "    import numpy as np\n",
    "    import matplotlib.pyplot as plt\n",
    "    import jax\n",
    "\n",
    "    fr, ggm, metrics = get_metrics(m, d)\n",
    "\n",
    "    mcov = jax.numpy.linalg.inv(jax.hessian(lambda p: -m.logpdf(p, d))(fr.bestfit))[0]\n",
    "\n",
    "    dpoi, dnp = np.sqrt(np.diag(mcov))\n",
    "    print(dpoi, dnp)\n",
    "\n",
    "    ax = axarr[0]\n",
    "    xi, yi, zi = evaluate_model(m, d, fr.bestfit)\n",
    "    ax.contour(xi, yi, zi, levels=lines, colors=\"k\")\n",
    "\n",
    "    xi, yi, zi = evaluate_model(ggm, fr.bestfit, fr.bestfit)\n",
    "    ax.contour(xi, yi, zi, levels=lines, colors=\"r\")\n",
    "\n",
    "    ax.scatter(\n",
    "        fr.bestfit[0],\n",
    "        fr.bestfit[1],\n",
    "        c=\"r\",\n",
    "    )\n",
    "    ax.errorbar(fr.bestfit[0], fr.bestfit[1], yerr=[dnp], xerr=[dpoi], c=\"r\")\n",
    "    ax.set_xlim(xi.min() - 0.2, xi.max())\n",
    "\n",
    "    ax = axarr[1]\n",
    "    ax.bar(range(4), metrics, alpha=0.2)\n",
    "    ax.set_ylim(0.005, 10)\n",
    "    ax.set_yscale(\"log\")\n",
    "    ax.grid()\n",
    "    ax.set_xticks(range(4))\n",
    "    ax.set_xticklabels([\"cls\", \"gaussian\", \"s_POI\", \"(s_NP-1)^2\"])\n",
    "    return metrics"
   ]
  },
  {
   "cell_type": "code",
   "execution_count": 5,
   "metadata": {},
   "outputs": [],
   "source": [
    "def get_gaussianity_metrics(m, at):\n",
    "    GA = gaussian_approx(m, at=at)\n",
    "    samps = GA.sample(key=key, at=at, shape=(100,))\n",
    "    m_nll = -jax.vmap(\n",
    "        lambda p, d: -(m.logpdf(p, d) - m.logpdf(at, d)), in_axes=(0, None)\n",
    "    )(samps, d)[:, 0]\n",
    "    ga_nll = -jax.vmap(\n",
    "        lambda p, d: -(GA.logpdf(p, d) - GA.logpdf(at, d)), in_axes=(0, None)\n",
    "    )(samps, at)[:, 0]\n",
    "    diffs = (m_nll - ga_nll) ** 2\n",
    "    diffs = diffs[np.isfinite(diffs)]\n",
    "    return GA, diffs.mean()\n",
    "\n",
    "\n",
    "def get_metrics(m, d):\n",
    "    import jax\n",
    "\n",
    "    pyhf.set_backend(\"jax\", pyhf.optimize.scipy_optimizer())\n",
    "    widths = np.diag(\n",
    "        np.sqrt(\n",
    "            jax.numpy.linalg.inv(\n",
    "                jax.hessian(lambda p: -m.logpdf(p, d)[0])(np.array([0.0, 0.0]))\n",
    "            )\n",
    "        )\n",
    "    )\n",
    "    cls_obs = pyhf.infer.hypotest(1.0, d, m, init_pars=[0.0, 0.0])\n",
    "\n",
    "    fr = BestFit(pyhf.infer.mle.fit(d, m))\n",
    "    ga_model, gaussianity = get_gaussianity_metrics(m, at=fr.bestfit)\n",
    "\n",
    "    widths = np.array(widths)\n",
    "    widths[1] = (widths[1] - 1.0) ** 2\n",
    "    a = np.array([cls_obs, gaussianity])\n",
    "    return fr, ga_model, np.concatenate([a, widths])"
   ]
  },
  {
   "cell_type": "code",
   "execution_count": 6,
   "metadata": {},
   "outputs": [
    {
     "ename": "NameError",
     "evalue": "name 'fr' is not defined",
     "output_type": "error",
     "traceback": [
      "\u001b[0;31m---------------------------------------------------------------------------\u001b[0m",
      "\u001b[0;31mNameError\u001b[0m                                 Traceback (most recent call last)",
      "\u001b[0;32m<ipython-input-6-55e599212032>\u001b[0m in \u001b[0;36m<module>\u001b[0;34m\u001b[0m\n\u001b[1;32m      3\u001b[0m \u001b[0mm\u001b[0m \u001b[0;34m=\u001b[0m \u001b[0mpyhf\u001b[0m\u001b[0;34m.\u001b[0m\u001b[0msimplemodels\u001b[0m\u001b[0;34m.\u001b[0m\u001b[0mcorrelated_background\u001b[0m\u001b[0;34m(\u001b[0m\u001b[0;34m[\u001b[0m\u001b[0;36m10\u001b[0m\u001b[0;34m,\u001b[0m\u001b[0;36m0\u001b[0m\u001b[0;34m]\u001b[0m\u001b[0;34m,\u001b[0m\u001b[0;34m[\u001b[0m\u001b[0;36m50\u001b[0m\u001b[0;34m,\u001b[0m\u001b[0;36m50\u001b[0m\u001b[0;34m]\u001b[0m\u001b[0;34m,\u001b[0m\u001b[0;34m[\u001b[0m\u001b[0;36m30\u001b[0m\u001b[0;34m,\u001b[0m\u001b[0;36m30\u001b[0m\u001b[0;34m]\u001b[0m\u001b[0;34m,\u001b[0m\u001b[0;34m[\u001b[0m\u001b[0;36m30\u001b[0m\u001b[0;34m,\u001b[0m\u001b[0;36m30\u001b[0m\u001b[0;34m]\u001b[0m\u001b[0;34m)\u001b[0m\u001b[0;34m\u001b[0m\u001b[0;34m\u001b[0m\u001b[0m\n\u001b[1;32m      4\u001b[0m \u001b[0md\u001b[0m \u001b[0;34m=\u001b[0m \u001b[0;34m[\u001b[0m\u001b[0;36m50\u001b[0m\u001b[0;34m,\u001b[0m\u001b[0;36m50\u001b[0m\u001b[0;34m]\u001b[0m\u001b[0;34m+\u001b[0m\u001b[0mm\u001b[0m\u001b[0;34m.\u001b[0m\u001b[0mconfig\u001b[0m\u001b[0;34m.\u001b[0m\u001b[0mauxdata\u001b[0m\u001b[0;34m\u001b[0m\u001b[0;34m\u001b[0m\u001b[0m\n\u001b[0;32m----> 5\u001b[0;31m \u001b[0mmetrics\u001b[0m \u001b[0;34m=\u001b[0m \u001b[0mplot_model\u001b[0m\u001b[0;34m(\u001b[0m\u001b[0maxarr\u001b[0m\u001b[0;34m[\u001b[0m\u001b[0;34m:\u001b[0m\u001b[0;34m,\u001b[0m\u001b[0;36m0\u001b[0m\u001b[0;34m]\u001b[0m\u001b[0;34m,\u001b[0m\u001b[0mm\u001b[0m\u001b[0;34m,\u001b[0m\u001b[0md\u001b[0m\u001b[0;34m,\u001b[0m\u001b[0mfr\u001b[0m\u001b[0;34m,\u001b[0m \u001b[0mlines\u001b[0m \u001b[0;34m=\u001b[0m \u001b[0;34m[\u001b[0m\u001b[0;36m1\u001b[0m\u001b[0;34m,\u001b[0m\u001b[0;36m2\u001b[0m\u001b[0;34m,\u001b[0m\u001b[0;36m4\u001b[0m\u001b[0;34m]\u001b[0m\u001b[0;34m)\u001b[0m\u001b[0;34m\u001b[0m\u001b[0;34m\u001b[0m\u001b[0m\n\u001b[0m\u001b[1;32m      6\u001b[0m \u001b[0;34m\u001b[0m\u001b[0m\n\u001b[1;32m      7\u001b[0m \u001b[0;34m\u001b[0m\u001b[0m\n",
      "\u001b[0;31mNameError\u001b[0m: name 'fr' is not defined"
     ]
    },
    {
     "data": {
      "image/png": "[encoded data removed]",
      "text/plain": [
       "<Figure size 432x288 with 8 Axes>"
      ]
     },
     "metadata": {
      "needs_background": "light"
     },
     "output_type": "display_data"
    }
   ],
   "source": [
    "f, axarr = plt.subplots(2, 4)\n",
    "\n",
    "m = pyhf.simplemodels.correlated_background([10, 0], [50, 50], [30, 30], [30, 30])\n",
    "d = [50, 50] + m.config.auxdata\n",
    "metrics = plot_model(axarr[:, 0], m, d, fr, lines=[1, 2, 4])\n",
    "\n",
    "\n",
    "m = pyhf.simplemodels.correlated_background([10, 0], [50, 50], [50, 40], [50, 60])\n",
    "d = [50, 50] + m.config.auxdata\n",
    "metrics = plot_model(axarr[:, 1], m, d, fr, lines=[1, 2, 4])\n",
    "\n",
    "m = pyhf.simplemodels.correlated_background([4, 4], [50, 50], [60, 60], [40, 40])\n",
    "d = [50, 50] + m.config.auxdata\n",
    "metrics = plot_model(axarr[:, 2], m, d, fr, lines=[1, 2, 4])\n",
    "\n",
    "m = pyhf.simplemodels.correlated_background([10, 0], [50, 50], [50, 53], [50, 47])\n",
    "d = [50, 50] + m.config.auxdata\n",
    "metrics = plot_model(axarr[:, 3], m, d, fr, lines=[1, 2, 4])\n",
    "\n",
    "f.set_size_inches(15, 4)\n",
    "f.set_tight_layout(True)"
   ]
  },
  {
   "cell_type": "code",
   "execution_count": 259,
   "metadata": {},
   "outputs": [
    {
     "name": "stdout",
     "output_type": "stream",
     "text": [
      "0.2363792407497414 0.8407735688751858\n",
      "0.23624976928744734 1.0\n"
     ]
    },
    {
     "data": {
      "image/png": "[encoded data removed]",
      "text/plain": [
       "<Figure size 1080x288 with 4 Axes>"
      ]
     },
     "metadata": {
      "needs_background": "light"
     },
     "output_type": "display_data"
    }
   ],
   "source": [
    "f, axarr = plt.subplots(2, 2)\n",
    "\n",
    "m = pyhf.simplemodels.correlated_background(\n",
    "    [1, 1, 3, 4], [20, 15, 5, 1], [15, 15, 5, 1], [15, 20, 5, 1]\n",
    ")\n",
    "d = [20, 15, 5, 1] + m.config.auxdata\n",
    "metrics = plot_model(axarr[:, 0], m, d, fr, lines=[1, 2, 4])\n",
    "\n",
    "\n",
    "m = pyhf.simplemodels.correlated_background(\n",
    "    [1, 1, 3, 4], [20, 15, 5, 1], [20, 15, 5, 1], [20, 15, 5, 1]\n",
    ")\n",
    "d = [20, 15, 5, 1] + m.config.auxdata\n",
    "metrics = plot_model(axarr[:, 1], m, d, fr, lines=[1, 2, 4])\n",
    "\n",
    "f.set_size_inches(15, 4)\n",
    "f.set_tight_layout(True)"
   ]
  },
  {
   "cell_type": "code",
   "execution_count": 256,
   "metadata": {},
   "outputs": [
    {
     "data": {
      "text/plain": [
       "<BarContainer object of 4 artists>"
      ]
     },
     "execution_count": 256,
     "metadata": {},
     "output_type": "execute_result"
    },
    {
     "data": {
      "image/png": "[encoded data removed]",
      "text/plain": [
       "<Figure size 432x288 with 1 Axes>"
      ]
     },
     "metadata": {
      "needs_background": "light"
     },
     "output_type": "display_data"
    }
   ],
   "source": [
    "counts = np.array([[1, 1, 3, 4], [20, 15, 5, 1], [20, 15, 5, 1], [15, 20, 5, 1]])\n",
    "plt.bar(np.arange(4), counts[0], width=0.1)\n",
    "plt.bar(np.arange(4) + 0.1, counts[1], width=0.1)\n",
    "plt.bar(np.arange(4) + 0.2, counts[2], width=0.1)\n",
    "plt.bar(np.arange(4) + 0.3, counts[3], width=0.1)"
   ]
  },
  {
   "cell_type": "code",
   "execution_count": null,
   "metadata": {},
   "outputs": [],
   "source": []
  }
 ],
 "metadata": {
  "interpreter": {
   "hash": "fa92c0ae8a1030388fc6cc32dd2c3ff44b32c7afc6ff60d0c2b7f43de3928ed2"
  },
  "kernelspec": {
   "display_name": "Python 3",
   "language": "python",
   "name": "python3"
  },
  "kubeflow_notebook": {
   "autosnapshot": false,
   "docker_image": "gitlab-registry.cern.ch/ai-ml/kubeflow_images/pytorch-notebook-gpu-1.8.0:v0.6.1-30-python3.8",
   "experiment": {
    "id": "",
    "name": ""
   },
   "experiment_name": "",
   "katib_metadata": {
    "algorithm": {
     "algorithmName": "grid"
    },
    "maxFailedTrialCount": 3,
    "maxTrialCount": 12,
    "objective": {
     "objectiveMetricName": "",
     "type": "minimize"
    },
    "parallelTrialCount": 3,
    "parameters": []
   },
   "katib_run": false,
   "pipeline_description": "",
   "pipeline_name": "",
   "snapshot_volumes": false,
   "steps_defaults": [],
   "volume_access_mode": "rwm",
   "volumes": []
  },
  "language_info": {
   "codemirror_mode": {
    "name": "ipython",
    "version": 3
   },
   "file_extension": ".py",
   "mimetype": "text/x-python",
   "name": "python",
   "nbconvert_exporter": "python",
   "pygments_lexer": "ipython3",
   "version": "3.8.0"
  }
 },
 "nbformat": 4,
 "nbformat_minor": 4
}
