{
 "cells": [
  {
   "cell_type": "code",
   "execution_count": 85,
   "metadata": {},
   "outputs": [],
   "source": [
    "from __future__ import annotations\n",
    "import jax\n",
    "import jax.numpy as jnp\n",
    "\n",
    "from jax.random import PRNGKey, multivariate_normal\n",
    "\n",
    "import pyhf\n",
    "import matplotlib.pyplot as plt\n",
    "import numpy as np\n",
    "from functools import partial\n",
    "\n",
    "from typing import Callable, Any\n",
    "\n",
    "pyhf.set_backend(\"jax\")\n",
    "\n",
    "\n",
    "def make_model(pars: jnp.array, bins=2) -> pyhf.Model:\n",
    "    bounded_pars_upper = jnp.where(pars > 10.0, 10.0, pars)\n",
    "    bounded_pars = jnp.where(bounded_pars_upper < -10.0, -10.0, bounded_pars_upper)\n",
    "    if bins == 2:\n",
    "        u1, d1 = bounded_pars\n",
    "        u = jnp.array([u1, -u1])\n",
    "        d = jnp.array([d1, -d1])\n",
    "\n",
    "        sig = jnp.array([5, 11])\n",
    "        nominal = jnp.array([50, 50])\n",
    "        up = jnp.array([50, 50]) + u\n",
    "        down = jnp.array([50, 50]) + d\n",
    "\n",
    "    elif bins == 3:\n",
    "        u1, u2, d1, d2 = bounded_pars\n",
    "        u = jnp.array([u1, u2, -u1 - u2])\n",
    "        d = jnp.array([d1, d2, -d1 - d2])\n",
    "\n",
    "        sig = jnp.array([2, 5, 10])\n",
    "        nominal = jnp.array([50, 50, 50])\n",
    "        up = jnp.array([50, 50, 50]) + u\n",
    "        down = jnp.array([50, 50, 50]) + d\n",
    "\n",
    "    m = {\n",
    "        \"channels\": [\n",
    "            {\n",
    "                \"name\": \"singlechannel\",\n",
    "                \"samples\": [\n",
    "                    {\n",
    "                        \"name\": \"signal\",\n",
    "                        \"data\": sig,\n",
    "                        \"modifiers\": [\n",
    "                            {\"name\": \"mu\", \"type\": \"normfactor\", \"data\": None}\n",
    "                        ],\n",
    "                    },\n",
    "                    {\n",
    "                        \"name\": \"background\",\n",
    "                        \"data\": nominal,\n",
    "                        \"modifiers\": [\n",
    "                            {\n",
    "                                \"name\": \"bkguncrt\",\n",
    "                                \"type\": \"histosys\",\n",
    "                                \"data\": {\"hi_data\": up, \"lo_data\": down},\n",
    "                            }\n",
    "                        ],\n",
    "                    },\n",
    "                ],\n",
    "            }\n",
    "        ]\n",
    "    }\n",
    "    return pyhf.Model(m, validate=False)\n",
    "\n",
    "\n",
    "def fisher_info_covariance(\n",
    "    bestfit_pars: jnp.array, m: pyhf.Model, observed_data: jnp.array\n",
    ") -> jnp.array:\n",
    "    return jnp.linalg.inv(\n",
    "        jax.hessian(lambda lhood_pars: -m.logpdf(lhood_pars, observed_data)[0])(\n",
    "            bestfit_pars\n",
    "        )\n",
    "    )\n",
    "\n",
    "\n",
    "def gaussian_logpdf(\n",
    "    bestfit_pars: jnp.array, data: jnp.array, cov: jnp.array\n",
    ") -> jnp.array:\n",
    "    return jax.scipy.stats.multivariate_normal.logpdf(data, bestfit_pars, cov).reshape(\n",
    "        1\n",
    "    )\n",
    "\n",
    "\n",
    "def model_gaussianity(\n",
    "    m: pyhf.Model,\n",
    "    bestfit_pars: jnp.array,\n",
    "    cov_approx: jnp.array,\n",
    "    observed_data: jnp.array,\n",
    ") -> jnp.array:\n",
    "    # - compare the likelihood of the fitted model with a gaussian approximation that has the same MLE (fitted_pars)\n",
    "    # - do this across a number of points in parspace (sampled from the gaussian approx) and take the mean squared diff\n",
    "    # - centre the values wrt the best-fit vals to scale the differences\n",
    "    gaussian_parspace_samples = multivariate_normal(\n",
    "        key=PRNGKey(1), mean=bestfit_pars, cov=cov_approx, shape=(100,)\n",
    "    )\n",
    "\n",
    "    relative_nlls_model = jax.vmap(\n",
    "        lambda pars, data: -(\n",
    "            m.logpdf(pars, data)[0] - m.logpdf(bestfit_pars, data)[0]\n",
    "        ),  # scale origin to bestfit pars\n",
    "        in_axes=(0, None),\n",
    "    )(gaussian_parspace_samples, observed_data)\n",
    "\n",
    "    relative_nlls_gaussian = jax.vmap(\n",
    "        lambda pars, data: -(\n",
    "            gaussian_logpdf(pars, data, cov_approx)[0]\n",
    "            - gaussian_logpdf(bestfit_pars, data, cov_approx)[0]\n",
    "        ),  # data fixes the lhood shape\n",
    "        in_axes=(0, None),\n",
    "    )(gaussian_parspace_samples, bestfit_pars)\n",
    "\n",
    "    diffs = relative_nlls_model - relative_nlls_gaussian\n",
    "    return jnp.mean(diffs[jnp.isfinite(diffs)] ** 2, axis=0)\n",
    "\n",
    "\n",
    "def metrics(\n",
    "    bestfit_pars: jnp.array, m: pyhf.Model, observed_data: jnp.array\n",
    ") -> jnp.array:\n",
    "    cov_approx = fisher_info_covariance(bestfit_pars, m, observed_data)\n",
    "    mu_idx, y_idx = m.config.par_order.index(\"mu\"), m.config.par_order.index(\"bkguncrt\")\n",
    "    mu_uncert2 = cov_approx[mu_idx, mu_idx]\n",
    "    pull_width_metric2 = (1 - cov_approx[y_idx, y_idx]) ** 2\n",
    "    gaussianity = model_gaussianity(m, bestfit_pars, cov_approx, observed_data)\n",
    "    cls_obs = pyhf.infer.hypotest(1.0, observed_data, m, init_pars=[0.0, 0.0])\n",
    "\n",
    "    return dict(\n",
    "        cls_obs=cls_obs,\n",
    "        mu_uncert2=mu_uncert2,\n",
    "        pull_width_metric2=pull_width_metric2,\n",
    "        gaussianity=gaussianity,\n",
    "    )\n",
    "\n",
    "\n",
    "def pipeline(pars: jnp.array, observed_data: jnp.array) -> jnp.array:\n",
    "    m = make_model(pars)\n",
    "    data = jnp.concatenate((observed_data, jnp.array(m.config.auxdata)))\n",
    "    mle_pars = pyhf.infer.mle.fit(data, m, init_pars=[0.0, 0.0])\n",
    "\n",
    "    return jnp.array(list(metrics(mle_pars, m, data).values()))"
   ]
  },
  {
   "cell_type": "code",
   "execution_count": 75,
   "metadata": {},
   "outputs": [],
   "source": [
    "import numpy as np\n",
    "\n",
    "dense = 10\n",
    "num_up, num_down = (dense, dense)\n",
    "\n",
    "up_grid = np.linspace(-10, 0, num_up)\n",
    "down_grid = np.linspace(-10, 0, num_down)\n",
    "\n",
    "uv, dv = np.meshgrid(up_grid, down_grid)"
   ]
  },
  {
   "cell_type": "code",
   "execution_count": 76,
   "metadata": {},
   "outputs": [
    {
     "ename": "TypeError",
     "evalue": "pipeline() missing 1 required positional argument: 'observed_data'",
     "output_type": "error",
     "traceback": [
      "\u001b[0;31m---------------------------------------------------------------------------\u001b[0m",
      "\u001b[0;31mTypeError\u001b[0m                                 Traceback (most recent call last)",
      "\u001b[0;32m<ipython-input-76-6c3c30e3609d>\u001b[0m in \u001b[0;36m<module>\u001b[0;34m\u001b[0m\n\u001b[0;32m----> 1\u001b[0;31m \u001b[0mvalues\u001b[0m \u001b[0;34m=\u001b[0m \u001b[0mnp\u001b[0m\u001b[0;34m.\u001b[0m\u001b[0marray\u001b[0m\u001b[0;34m(\u001b[0m\u001b[0;34m[\u001b[0m\u001b[0mpipeline\u001b[0m\u001b[0;34m(\u001b[0m\u001b[0mjnp\u001b[0m\u001b[0;34m.\u001b[0m\u001b[0marray\u001b[0m\u001b[0;34m(\u001b[0m\u001b[0ma\u001b[0m\u001b[0;34m)\u001b[0m\u001b[0;34m)\u001b[0m \u001b[0;32mfor\u001b[0m \u001b[0ma\u001b[0m \u001b[0;32min\u001b[0m \u001b[0mnp\u001b[0m\u001b[0;34m.\u001b[0m\u001b[0mvstack\u001b[0m\u001b[0;34m(\u001b[0m\u001b[0;34m[\u001b[0m\u001b[0muv\u001b[0m\u001b[0;34m.\u001b[0m\u001b[0mravel\u001b[0m\u001b[0;34m(\u001b[0m\u001b[0;34m)\u001b[0m\u001b[0;34m,\u001b[0m \u001b[0mdv\u001b[0m\u001b[0;34m.\u001b[0m\u001b[0mravel\u001b[0m\u001b[0;34m(\u001b[0m\u001b[0;34m)\u001b[0m\u001b[0;34m]\u001b[0m\u001b[0;34m)\u001b[0m\u001b[0;34m.\u001b[0m\u001b[0mT\u001b[0m\u001b[0;34m]\u001b[0m\u001b[0;34m)\u001b[0m\u001b[0;34m\u001b[0m\u001b[0;34m\u001b[0m\u001b[0m\n\u001b[0m",
      "\u001b[0;32m<ipython-input-76-6c3c30e3609d>\u001b[0m in \u001b[0;36m<listcomp>\u001b[0;34m(.0)\u001b[0m\n\u001b[0;32m----> 1\u001b[0;31m \u001b[0mvalues\u001b[0m \u001b[0;34m=\u001b[0m \u001b[0mnp\u001b[0m\u001b[0;34m.\u001b[0m\u001b[0marray\u001b[0m\u001b[0;34m(\u001b[0m\u001b[0;34m[\u001b[0m\u001b[0mpipeline\u001b[0m\u001b[0;34m(\u001b[0m\u001b[0mjnp\u001b[0m\u001b[0;34m.\u001b[0m\u001b[0marray\u001b[0m\u001b[0;34m(\u001b[0m\u001b[0ma\u001b[0m\u001b[0;34m)\u001b[0m\u001b[0;34m)\u001b[0m \u001b[0;32mfor\u001b[0m \u001b[0ma\u001b[0m \u001b[0;32min\u001b[0m \u001b[0mnp\u001b[0m\u001b[0;34m.\u001b[0m\u001b[0mvstack\u001b[0m\u001b[0;34m(\u001b[0m\u001b[0;34m[\u001b[0m\u001b[0muv\u001b[0m\u001b[0;34m.\u001b[0m\u001b[0mravel\u001b[0m\u001b[0;34m(\u001b[0m\u001b[0;34m)\u001b[0m\u001b[0;34m,\u001b[0m \u001b[0mdv\u001b[0m\u001b[0;34m.\u001b[0m\u001b[0mravel\u001b[0m\u001b[0;34m(\u001b[0m\u001b[0;34m)\u001b[0m\u001b[0;34m]\u001b[0m\u001b[0;34m)\u001b[0m\u001b[0;34m.\u001b[0m\u001b[0mT\u001b[0m\u001b[0;34m]\u001b[0m\u001b[0;34m)\u001b[0m\u001b[0;34m\u001b[0m\u001b[0;34m\u001b[0m\u001b[0m\n\u001b[0m",
      "\u001b[0;31mTypeError\u001b[0m: pipeline() missing 1 required positional argument: 'observed_data'"
     ]
    }
   ],
   "source": [
    "obs_data = jnp.array([50.0, 50.0, 50.0])\n",
    "pipe = partial(pipeline, observed_data=obs_data)\n",
    "\n",
    "values = np.array([pipe(jnp.array(a)) for a in np.vstack([uv.ravel(), dv.ravel()]).T])"
   ]
  },
  {
   "cell_type": "code",
   "execution_count": 77,
   "metadata": {},
   "outputs": [
    {
     "ename": "NameError",
     "evalue": "name 'values' is not defined",
     "output_type": "error",
     "traceback": [
      "\u001b[0;31m---------------------------------------------------------------------------\u001b[0m",
      "\u001b[0;31mNameError\u001b[0m                                 Traceback (most recent call last)",
      "\u001b[0;32m<ipython-input-77-bdf80270ccb8>\u001b[0m in \u001b[0;36m<module>\u001b[0;34m\u001b[0m\n\u001b[1;32m     11\u001b[0m     )\n\u001b[1;32m     12\u001b[0m ):\n\u001b[0;32m---> 13\u001b[0;31m     \u001b[0mp\u001b[0m \u001b[0;34m=\u001b[0m \u001b[0max\u001b[0m\u001b[0;34m.\u001b[0m\u001b[0mcontourf\u001b[0m\u001b[0;34m(\u001b[0m\u001b[0muv\u001b[0m\u001b[0;34m,\u001b[0m \u001b[0mdv\u001b[0m\u001b[0;34m,\u001b[0m \u001b[0mvalues\u001b[0m\u001b[0;34m[\u001b[0m\u001b[0;34m:\u001b[0m\u001b[0;34m,\u001b[0m \u001b[0mi\u001b[0m\u001b[0;34m]\u001b[0m\u001b[0;34m.\u001b[0m\u001b[0mreshape\u001b[0m\u001b[0;34m(\u001b[0m\u001b[0;34m(\u001b[0m\u001b[0mdense\u001b[0m\u001b[0;34m,\u001b[0m \u001b[0mdense\u001b[0m\u001b[0;34m)\u001b[0m\u001b[0;34m)\u001b[0m\u001b[0;34m)\u001b[0m\u001b[0;34m\u001b[0m\u001b[0;34m\u001b[0m\u001b[0m\n\u001b[0m\u001b[1;32m     14\u001b[0m     \u001b[0mplt\u001b[0m\u001b[0;34m.\u001b[0m\u001b[0mcolorbar\u001b[0m\u001b[0;34m(\u001b[0m\u001b[0mp\u001b[0m\u001b[0;34m,\u001b[0m \u001b[0max\u001b[0m\u001b[0;34m=\u001b[0m\u001b[0max\u001b[0m\u001b[0;34m)\u001b[0m\u001b[0;34m\u001b[0m\u001b[0;34m\u001b[0m\u001b[0m\n\u001b[1;32m     15\u001b[0m     \u001b[0max\u001b[0m\u001b[0;34m.\u001b[0m\u001b[0mset_xlabel\u001b[0m\u001b[0;34m(\u001b[0m\u001b[0;34m\"u\"\u001b[0m\u001b[0;34m)\u001b[0m\u001b[0;34m\u001b[0m\u001b[0;34m\u001b[0m\u001b[0m\n",
      "\u001b[0;31mNameError\u001b[0m: name 'values' is not defined"
     ]
    },
    {
     "data": {
      "image/png": "[encoded data removed]",
      "text/plain": [
       "<Figure size 600x600 with 4 Axes>"
      ]
     },
     "metadata": {},
     "output_type": "display_data"
    }
   ],
   "source": [
    "import matplotlib.pyplot as plt\n",
    "\n",
    "plt.rc(\"figure\", figsize=[5, 5], dpi=120, facecolor=\"w\")\n",
    "\n",
    "fig, axs = plt.subplots(2, 2, sharex=True, sharey=True)\n",
    "\n",
    "for i, (label, ax) in enumerate(\n",
    "    zip(\n",
    "        [\"$CL_s$\", r\"$\\sigma_{mu}^2$\", r\"$(1-\\sigma_{\\mathsf{np}})^2$\", \"gaussianity\"],\n",
    "        axs.ravel(),\n",
    "    )\n",
    "):\n",
    "    p = ax.contourf(uv, dv, values[:, i].reshape((dense, dense)))\n",
    "    plt.colorbar(p, ax=ax)\n",
    "    ax.set_xlabel(\"u\")\n",
    "    ax.set_ylabel(\"d\")\n",
    "    ax.set_title(label)\n",
    "\n",
    "plt.suptitle(\n",
    "    \"sig = [5,11], nom = [50,50]\\nbkg_up = [nom+u,nom-u]\\nbkg_down = [nom+d,nom-d]\\n $|u|, |d|<10$\"\n",
    ")\n",
    "plt.tight_layout()"
   ]
  },
  {
   "cell_type": "code",
   "execution_count": 23,
   "metadata": {},
   "outputs": [],
   "source": [
    "mets = {\n",
    "    metric: val\n",
    "    for val, metric in zip(vals.T, [\"cls\", \"mu_err^2\", \"[1-np_err]^2\", \"gaussianity\"])\n",
    "}"
   ]
  },
  {
   "cell_type": "code",
   "execution_count": 127,
   "metadata": {},
   "outputs": [
    {
     "data": {
      "image/png": "[encoded data removed]",
      "text/plain": [
       "<Figure size 600x600 with 1 Axes>"
      ]
     },
     "metadata": {},
     "output_type": "display_data"
    }
   ],
   "source": [
    "plt.rc(\"figure\", figsize=[5, 5], dpi=120, facecolor=\"w\")\n",
    "\n",
    "values[:, 1] /= 2\n",
    "values[:, 2] /= 4\n",
    "values[:, 3] /= 200\n",
    "\n",
    "\n",
    "p = plt.contourf(uv, dv, values.sum(axis=1).reshape((dense, dense)))\n",
    "\n",
    "plt.xlabel(\"u\")\n",
    "plt.ylabel(\"d\")\n",
    "\n",
    "plt.suptitle(\n",
    "    \"sig = [5,11], nom = [50,50]\\nbkg_up = [nom+u,nom-u]\\nbkg_down = [nom+d,nom-d]\\n $|u|, |d|<10$\"\n",
    ")\n",
    "plt.tight_layout()"
   ]
  },
  {
   "cell_type": "code",
   "execution_count": 61,
   "metadata": {},
   "outputs": [],
   "source": [
    "def evaluate_logpdf(\n",
    "    logpdf: Callable[..., list[float]],\n",
    "    data: np.ndarray,\n",
    "    reference: np.ndarray,\n",
    "    pdfargs: list[Any] = [],\n",
    ") -> tuple[np.ndarray]:\n",
    "    grid = xi, yi = np.mgrid[-4:4:51j, -2:2:51j]\n",
    "    X = np.swapaxes(grid, 0, -1).reshape(-1, 2)\n",
    "    r = jax.vmap(logpdf, in_axes=(0, *[None for i in range(len(pdfargs) + 1)]))(\n",
    "        X, data, *pdfargs\n",
    "    )\n",
    "    zi = -2 * (r[:, 0].reshape(51, 51).T - logpdf(reference, data, *pdfargs))\n",
    "    return xi, yi, zi"
   ]
  },
  {
   "cell_type": "code",
   "execution_count": null,
   "metadata": {},
   "outputs": [],
   "source": [
    "plt.rc(\"figure\", figsize=[5, 5], dpi=120, facecolor=\"w\")\n",
    "\n",
    "fig, ax = plt.subplots()\n",
    "from matplotlib.lines import Line2D\n",
    "\n",
    "custom_lines = [\n",
    "    Line2D([0], [0], color=\"C9\", lw=2),\n",
    "    Line2D([0], [0], color=\"C1\", lw=2),\n",
    "]\n",
    "\n",
    "\n",
    "levels = [1, 2, 4, 8]\n",
    "pars = up, down = jnp.array([-5, -10])\n",
    "m = make_model(pars)\n",
    "data = np.concatenate((np.ones(2) * 50.0, m.config.auxdata))\n",
    "bestfit = pyhf.infer.mle.fit(data, m, init_pars=[0, 0])\n",
    "model_eval = evaluate_logpdf(m.logpdf, data, bestfit)\n",
    "\n",
    "cov_approx = fisher_info_covariance(bestfit, m, data)\n",
    "gaussian_eval = evaluate_logpdf(gaussian_logpdf, bestfit, bestfit, [cov_approx])\n",
    "\n",
    "ax.contourf(*model_eval, levels=levels)  # , colors=\"C9\")\n",
    "ax.contour(*gaussian_eval, levels=levels, colors=\"C1\")\n",
    "ax.set_xlabel(m.config.par_order[0])\n",
    "ax.set_ylabel(m.config.par_order[1])\n",
    "\n",
    "ax.legend(custom_lines, [f\"model(u={up}, d={down})\", \"gaussian approx\"])"
   ]
  },
  {
   "cell_type": "code",
   "execution_count": 43,
   "metadata": {},
   "outputs": [
    {
     "data": {
      "text/plain": [
       "(2, 2)"
      ]
     },
     "execution_count": 43,
     "metadata": {},
     "output_type": "execute_result"
    }
   ],
   "source": [
    "cov_approx.shape[-2:]"
   ]
  },
  {
   "cell_type": "code",
   "execution_count": 56,
   "metadata": {},
   "outputs": [
    {
     "data": {
      "text/plain": [
       "[]"
      ]
     },
     "execution_count": 56,
     "metadata": {},
     "output_type": "execute_result"
    }
   ],
   "source": [
    "[i for i in range(0)]"
   ]
  },
  {
   "cell_type": "code",
   "execution_count": 80,
   "metadata": {},
   "outputs": [
    {
     "data": {
      "text/plain": [
       "50.0"
      ]
     },
     "execution_count": 80,
     "metadata": {},
     "output_type": "execute_result"
    }
   ],
   "source": [
    "Ts = 1 / (44 * 1000)\n",
    "(1 / 880) / Ts"
   ]
  },
  {
   "cell_type": "code",
   "execution_count": null,
   "metadata": {},
   "outputs": [],
   "source": []
  }
 ],
 "metadata": {
  "kernelspec": {
   "display_name": "Python 3",
   "language": "python",
   "name": "python3"
  },
  "kubeflow_notebook": {
   "autosnapshot": false,
   "docker_image": "gitlab-registry.cern.ch/ai-ml/kubeflow_images/pytorch-notebook-gpu-1.8.0:v0.6.1-30-python3.8",
   "experiment": {
    "id": "",
    "name": ""
   },
   "experiment_name": "",
   "katib_metadata": {
    "algorithm": {
     "algorithmName": "grid"
    },
    "maxFailedTrialCount": 3,
    "maxTrialCount": 12,
    "objective": {
     "objectiveMetricName": "",
     "type": "minimize"
    },
    "parallelTrialCount": 3,
    "parameters": []
   },
   "katib_run": false,
   "pipeline_description": "",
   "pipeline_name": "",
   "snapshot_volumes": false,
   "steps_defaults": [],
   "volume_access_mode": "rwm",
   "volumes": []
  },
  "language_info": {
   "codemirror_mode": {
    "name": "ipython",
    "version": 3
   },
   "file_extension": ".py",
   "mimetype": "text/x-python",
   "name": "python",
   "nbconvert_exporter": "python",
   "pygments_lexer": "ipython3",
   "version": "3.8.0"
  }
 },
 "nbformat": 4,
 "nbformat_minor": 4
}
